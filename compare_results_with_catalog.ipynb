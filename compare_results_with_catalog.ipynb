{
 "metadata": {
  "name": "hadoop compare flux"
 },
 "nbformat": 3,
 "nbformat_minor": 0,
 "worksheets": [
  {
   "cells": [
    {
     "cell_type": "code",
     "collapsed": false,
     "input": "import pandas as pd",
     "language": "python",
     "metadata": {},
     "outputs": []
    },
    {
     "cell_type": "code",
     "collapsed": false,
     "input": "a=pd.read_table(\"part-00000\", names=[\"name\",\"10arcminmean\"])",
     "language": "python",
     "metadata": {},
     "outputs": []
    },
    {
     "cell_type": "code",
     "collapsed": false,
     "input": "a.head()",
     "language": "python",
     "metadata": {},
     "outputs": []
    },
    {
     "cell_type": "code",
     "collapsed": false,
     "input": "a[\"name\"] = [b.split(\"_\")[0] for b in a[\"name\"]]",
     "language": "python",
     "metadata": {},
     "outputs": []
    },
    {
     "cell_type": "code",
     "collapsed": false,
     "input": "a = a.set_index(\"name\")",
     "language": "python",
     "metadata": {},
     "outputs": []
    },
    {
     "cell_type": "code",
     "collapsed": false,
     "input": "a.head()",
     "language": "python",
     "metadata": {},
     "outputs": []
    },
    {
     "cell_type": "code",
     "collapsed": false,
     "input": "#!/usr/bin/env python\n\nimport sys\nimport os\nimport pyfits\nimport numpy as np\nimport pandas as pd\nimport healpy as hp\nimport exceptions\nfrom glob import glob\n\nbase_folder = \"./\"\n\ndef load_catalog(key):\n    filename = glob(base_folder + \"plancktest/COM_PCCS_%03d*fits\" %   key)[0]\n    return np.array(pyfits.open(filename)[1].data)\n\nclass Catalogs(object):\n    \"\"\"Lazy load of catalogs\"\"\"\n\n    data = {}\n\n    def __getitem__(self, key):\n        try:\n            return self.data[key]\n        except:\n            self.data[key] = load_catalog(key)\n            return self.data[key]\n",
     "language": "python",
     "metadata": {},
     "outputs": []
    },
    {
     "cell_type": "code",
     "collapsed": false,
     "input": "catalogs = Catalogs()",
     "language": "python",
     "metadata": {},
     "outputs": []
    },
    {
     "cell_type": "code",
     "collapsed": false,
     "input": "catalog = pd.concat([pd.DataFrame(catalogs[30]), pd.DataFrame(catalogs[70])], ignore_index=True)",
     "language": "python",
     "metadata": {},
     "outputs": []
    },
    {
     "cell_type": "code",
     "collapsed": false,
     "input": "catalog = catalog.set_index(\"NAME\")",
     "language": "python",
     "metadata": {},
     "outputs": []
    },
    {
     "cell_type": "code",
     "collapsed": false,
     "input": "print catalog.head()",
     "language": "python",
     "metadata": {},
     "outputs": []
    },
    {
     "cell_type": "code",
     "collapsed": false,
     "input": "catalog.sort(\"DETFLUX\", inplace=True)",
     "language": "python",
     "metadata": {},
     "outputs": []
    },
    {
     "cell_type": "code",
     "collapsed": false,
     "input": "tenarcminmean = a[\"10arcminmean\"][catalog.index.unique()]\ntenarcminmean /= tenarcminmean.max()",
     "language": "python",
     "metadata": {},
     "outputs": []
    },
    {
     "cell_type": "code",
     "collapsed": false,
     "input": "tenarcminmean.reset_index(drop=True).plot(label=\"mean of 10 arcmin\")\n(catalog.DETFLUX/catalog.DETFLUX.max()).reset_index(drop=True).plot(linewidth=2, color=\"r\", label=\"catalog\")\nlegend(loc=0)\nxlabel(\"Source index sorted by DETFLUX\")\nylabel(\"Normalized emission [logscale]\")\ntitle(\"Comparison of flux estimate with catalog\")\nyscale(\"log\")",
     "language": "python",
     "metadata": {},
     "outputs": []
    },
    {
     "cell_type": "code",
     "collapsed": false,
     "input": "",
     "language": "python",
     "metadata": {},
     "outputs": []
    }
   ],
   "metadata": {}
  }
 ]
}
